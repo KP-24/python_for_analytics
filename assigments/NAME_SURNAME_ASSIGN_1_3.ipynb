{
 "cells": [
  {
   "cell_type": "markdown",
   "metadata": {},
   "source": [
    "## Assignment 1 - Part 3"
   ]
  },
  {
   "cell_type": "markdown",
   "metadata": {},
   "source": [
    "## Instructions\n",
    "* Rename this notebook with your NAME_LASTNAME_ASSIGN_1\n",
    "* Finish the test on this notebook\n",
    "* Download your notebook as a PDF\n",
    "* Turn in both the notebook and PDF (in my case I would get two files RAFAEL_VESCOVI_ASSIGN_1.pdf and RAFAEL_VESCOVI_ASSIGN_1.ipynb)\n",
    "* Show the output of your code working on the sample data, like below.  \n",
    "* If techniques are specified, use them.  Otherwise, feel free to solve the problem how you want.  \n",
    "* Try to keep your code clean, concise and avoid loops if necessary.  \n",
    "* You have to show your work (code).\n",
    "* You will be graded:\n",
    "    * The functionality of your code (Does it do what it was meant to)\n",
    "    * Showing the output on the sample data provided\n",
    "    * How concise it is (did you use a for loop when you could have used a comprehension for instance).  Simply put, try and write clean, concise and readable code (don't use 10 lines for what could have been done in 4).\n",
    "    * Even if the answer isn't perfect, make an honest attempt as partial credit will be given.\n",
    "* you should not have to explicitly use  a for loop except for question 12, meaning it is possible to complete the entire assignment without using the keyword \"for\".\n",
    "* the only third party functions/modules you are allowed to use are permutations and combinations from itertools.  yes, there is a built in median function in numpy, but the idea is to program yourself and solve the problems on your own using basic python techniques"
   ]
  },
  {
   "cell_type": "markdown",
   "metadata": {},
   "source": [
    "### Question 10\n",
    "\n",
    "* write a function that takes a list, sorts it and finds the middle value.  \n",
    "* use error handling to check the list is odd in length\n",
    "* if it's even, return an error message\n",
    "* feel free to use a try/except or assert\n",
    "* show the output run on both lists"
   ]
  },
  {
   "cell_type": "code",
   "execution_count": null,
   "metadata": {},
   "outputs": [],
   "source": [
    "# a = [4,6,1]\n",
    "# sort = [1,4,6]\n",
    "# middle val = 4\n",
    "# if even number in size, return error"
   ]
  },
  {
   "cell_type": "code",
   "execution_count": 3,
   "metadata": {},
   "outputs": [],
   "source": [
    "a = [4,6,1,3,12,41,4,1,24,12,17]\n",
    "b = [4,6,1,3,12,41,4,1,24,12]"
   ]
  },
  {
   "cell_type": "markdown",
   "metadata": {},
   "source": [
    "### Question 11\n",
    "* Make a generator that parses the list of transaction data\n",
    "* Put the contents in a dictionary where the key is the user id and the value is the list of items the user has purchased\n",
    "* note the transactions are pipe ( | ) delimtied, meaning you'll have to use some string manipulations to get the values from each transaction\n",
    "* make sure to skip the header somehow"
   ]
  },
  {
   "cell_type": "code",
   "execution_count": null,
   "metadata": {},
   "outputs": [],
   "source": [
    "# transactions = [A, item_a], [A, item_b]\n",
    "# dict = {A:[item_a, item_b]}"
   ]
  },
  {
   "cell_type": "code",
   "execution_count": null,
   "metadata": {},
   "outputs": [],
   "source": [
    "transactions = [\n",
    "    [\"user_id|item_id\"],\n",
    "    [\"A|item_a\"],\n",
    "    [\"B|item_a\"],\n",
    "    [\"C|item_a\"],\n",
    "    [\"C|item_b\"],\n",
    "    [\"C|item_c\"],\n",
    "    [\"B|item_c\"],\n",
    "    [\"D|item_b\"],\n",
    "    [\"D|item_b\"]\n",
    "]"
   ]
  },
  {
   "cell_type": "markdown",
   "metadata": {},
   "source": [
    "### Question 12\n",
    "* Make a function that takes 2 lists of equal length and returns a True when the values in a given index are the same in both lists and a false if they are not.\n",
    "* Use error handling of some kind if the lists are not of equal length."
   ]
  },
  {
   "cell_type": "code",
   "execution_count": 2,
   "metadata": {},
   "outputs": [],
   "source": [
    "# should return [True, True, True, False, False]\n",
    "a = [1,2,3,4,5]\n",
    "b = [1,2,3,5,6]"
   ]
  },
  {
   "cell_type": "markdown",
   "metadata": {},
   "source": [
    "### Question 13\n",
    "Show three ways of attaching a list to itself (one of then should use the function append) . \n"
   ]
  },
  {
   "cell_type": "code",
   "execution_count": 1,
   "metadata": {},
   "outputs": [],
   "source": [
    "a = [1,2,3]\n"
   ]
  },
  {
   "cell_type": "markdown",
   "metadata": {},
   "source": [
    "### Extra questions - To think about .. And answer..\n",
    "\n",
    "* What two datatypes can be declared with { }?\n",
    "* What two datatypes can be declared with ( )?\n",
    "* Provide examples of each of the 4 above.\n",
    "\n",
    "* Describe what a generator is and how it differs from a list or tuple."
   ]
  },
  {
   "cell_type": "code",
   "execution_count": null,
   "metadata": {},
   "outputs": [],
   "source": []
  }
 ],
 "metadata": {
  "kernelspec": {
   "display_name": "Python 3",
   "language": "python",
   "name": "python3"
  },
  "language_info": {
   "codemirror_mode": {
    "name": "ipython",
    "version": 3
   },
   "file_extension": ".py",
   "mimetype": "text/x-python",
   "name": "python",
   "nbconvert_exporter": "python",
   "pygments_lexer": "ipython3",
   "version": "3.7.4"
  }
 },
 "nbformat": 4,
 "nbformat_minor": 2
}
